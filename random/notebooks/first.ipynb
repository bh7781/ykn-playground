{
 "cells": [
  {
   "cell_type": "code",
   "execution_count": 13,
   "metadata": {},
   "outputs": [],
   "source": [
    "import openai\n",
    "import pandas as pd\n",
    "import re"
   ]
  },
  {
   "cell_type": "code",
   "execution_count": 14,
   "metadata": {},
   "outputs": [],
   "source": [
    "# Set up OpenAI API key\n",
    "openai.api_key = \"<your_API_key>\""
   ]
  },
  {
   "cell_type": "code",
   "execution_count": 15,
   "metadata": {},
   "outputs": [],
   "source": [
    "\n",
    "# Define a function to generate quiz questions\n",
    "def generate_questions(prompt, n_questions):\n",
    "    response = openai.Completion.create(\n",
    "        engine=\"text-davinci-002\",\n",
    "        prompt=prompt,\n",
    "        n=n_questions,\n",
    "        max_tokens=1000,\n",
    "        temperature=0.5,\n",
    "        top_p=1,\n",
    "    )\n",
    "\n",
    "    return response.choices"
   ]
  },
  {
   "cell_type": "code",
   "execution_count": 18,
   "metadata": {},
   "outputs": [],
   "source": [
    "\n",
    "# Define the prompts for different difficulty levels\n",
    "easy_prompt = \"Generate 1 easy cricket quiz questions with 4 options, correct answer, and explanation.\"\n",
    "medium_prompt = \"Generate 1 medium difficulty cricket quiz questions with 4 options, correct answer, and explanation.\"\n",
    "difficult_prompt = \"Generate 3 difficult cricket quiz questions with 4 options, correct answer, and explanation.\""
   ]
  },
  {
   "cell_type": "code",
   "execution_count": 19,
   "metadata": {},
   "outputs": [],
   "source": [
    "\n",
    "# Generate quiz questions for each difficulty level\n",
    "easy_questions = generate_questions(easy_prompt, 1)\n",
    "medium_questions = generate_questions(medium_prompt, 1)\n",
    "difficult_questions = generate_questions(difficult_prompt, 3)"
   ]
  },
  {
   "cell_type": "code",
   "execution_count": 20,
   "metadata": {},
   "outputs": [],
   "source": [
    "# Combine the questions\n",
    "all_questions = easy_questions + medium_questions + difficult_questions"
   ]
  },
  {
   "cell_type": "code",
   "execution_count": 33,
   "metadata": {},
   "outputs": [
    {
     "name": "stdout",
     "output_type": "stream",
     "text": [
      "Failed to parse question: \n",
      "\n",
      "1. What is the name of the first Test cricket ground in England?\n",
      "\n",
      "a. Lord's Cricket Ground\n",
      "b. The Oval\n",
      "c. Edgbaston\n",
      "d. Trent Bridge\n",
      "\n",
      "The correct answer is a. Lord's Cricket Ground. Lord's Cricket Ground is located in St John's Wood, London and is the home of the Marylebone Cricket Club. It is the oldest Test cricket ground in England, having hosted the first ever Test match in 1868. \n",
      "\n",
      "2. How many wickets must a bowler take to be considered to have bowled a maiden over?\n",
      "\n",
      "a. 1\n",
      "b. 2\n",
      "c. 3\n",
      "d. 4\n",
      "\n",
      "The correct answer is c. 3. In cricket, a maiden over is an over in which no runs are scored. The bowler is said to have \"bowled a maiden\". For a maiden over, the bowler must have bowled six legal deliveries and no runs must have been scored off them. \n",
      "\n",
      "3. What is the name of the current captain of the England Test cricket team?\n",
      "\n",
      "a. Joe Root\n",
      "b. Eoin Morgan\n",
      "c. Ben Stokes\n",
      "d. Jos Buttler\n",
      "\n",
      "The correct answer is a. Joe Root. Joe Root is an English cricketer who is the current captain of the England Test cricket team. He was born on 30 December 1990 in Sheffield, Yorkshire.\n",
      "Failed to parse question: \n",
      "\n",
      "1. Which of the following is not a cricketing term?\n",
      "\n",
      "a) Duck\n",
      "b) Googly\n",
      "c) Bouncer\n",
      "d) Yorker\n",
      "\n",
      "c) Bouncer\n",
      "\n",
      "A bouncer is a type of delivery in baseball, not cricket.\n",
      "\n",
      "2. What is the name of the current Test cricket champions?\n",
      "\n",
      "a) Australia\n",
      "b) India\n",
      "c) England\n",
      "d) Pakistan\n",
      "\n",
      "c) England\n",
      "\n",
      "England are the current Test cricket champions, having beaten New Zealand in the final of the 2019 World Test Championship.\n",
      "\n",
      "3. How many players are there in a cricket team?\n",
      "\n",
      "a) 9\n",
      "b) 10\n",
      "c) 11\n",
      "d) 12\n",
      "\n",
      "c) 11\n",
      "\n",
      "There are 11 players in a cricket team.\n",
      "Failed to parse question: \n",
      "\n",
      "1. What is the name of the first test cricket team to tour England?\n",
      "\n",
      "a) Australia\n",
      "b) South Africa\n",
      "c) New Zealand\n",
      "d) West Indies\n",
      "\n",
      "Answer: a) Australia\n",
      "\n",
      "Explanation: The first test cricket team to tour England was Australia in 1868.\n",
      "\n",
      "2. When was the first test match played between England and Australia?\n",
      "\n",
      "a) 1877\n",
      "b) 1878\n",
      "c) 1879\n",
      "d) 1880\n",
      "\n",
      "Answer: c) 1879\n",
      "\n",
      "Explanation: The first test match between England and Australia was played in 1879.\n",
      "\n",
      "3. Who is the only player to score a century in their first test match and their last test match?\n",
      "\n",
      "a) Sir Donald Bradman\n",
      "b) Garfield Sobers\n",
      "c) Sir Viv Richards\n",
      "d) Steve Waugh\n",
      "\n",
      "Answer: a) Sir Donald Bradman\n",
      "\n",
      "Explanation: Sir Donald Bradman is the only player to score a century in their first test match and their last test match.\n"
     ]
    }
   ],
   "source": [
    "# Parse the generated questions and store them in a DataFrame\n",
    "quiz_data = []\n",
    "for question in all_questions:\n",
    "    text = question.text\n",
    "    # print(\"Generated Text:\", text)  # Debugging line\n",
    "\n",
    "    question_match = re.search(r'(\\d+\\..*?)\\n\\n', text)\n",
    "    options_match = re.findall(r'([A-D]\\..*?)\\n', text)\n",
    "    answer_match = re.search(r'([A-D])\\..*?', text)\n",
    "    explanation_match = re.search(r'([A-D]\\..*?)\\n\\n', text)\n",
    "\n",
    "    if question_match and options_match and answer_match and explanation_match:\n",
    "        quiz_data.append({\n",
    "            'Question': question_match.group(1),\n",
    "            'Option 1': options_match[0],\n",
    "            'Option 2': options_match[1],\n",
    "            'Option 3': options_match[2],\n",
    "            'Option 4': options_match[3],\n",
    "            'Correct Answer': answer_match.group(1),\n",
    "            'Explanation': explanation_match.group(1)\n",
    "        })\n",
    "    else:\n",
    "        print(\"Failed to parse question:\", text)  # Debugging line\n"
   ]
  },
  {
   "cell_type": "code",
   "execution_count": 32,
   "metadata": {},
   "outputs": [
    {
     "data": {
      "text/plain": [
       "[{'Question': '1. Which of the following is not a type of cricket?',\n",
       "  'Option 1': 'A. Field cricket',\n",
       "  'Option 2': 'B. House cricket',\n",
       "  'Option 3': 'C. Tree cricket',\n",
       "  'Option 4': 'D. Ground cricket',\n",
       "  'Correct Answer': 'A',\n",
       "  'Explanation': 'D. Ground cricket'},\n",
       " {'Question': '1. Which of the following is NOT a type of cricket?',\n",
       "  'Option 1': 'A. Indoor cricket',\n",
       "  'Option 2': 'B. Test cricket',\n",
       "  'Option 3': 'C. T20 cricket',\n",
       "  'Option 4': 'D. One Day International cricket',\n",
       "  'Correct Answer': 'A',\n",
       "  'Explanation': 'D. One Day International cricket'}]"
      ]
     },
     "execution_count": 32,
     "metadata": {},
     "output_type": "execute_result"
    }
   ],
   "source": [
    "quiz_data"
   ]
  },
  {
   "cell_type": "code",
   "execution_count": 27,
   "metadata": {},
   "outputs": [],
   "source": [
    "# Create a pandas DataFrame from the quiz data\n",
    "quiz_df = pd.DataFrame(quiz_data)"
   ]
  },
  {
   "cell_type": "code",
   "execution_count": 28,
   "metadata": {},
   "outputs": [
    {
     "data": {
      "text/html": [
       "<div>\n",
       "<style scoped>\n",
       "    .dataframe tbody tr th:only-of-type {\n",
       "        vertical-align: middle;\n",
       "    }\n",
       "\n",
       "    .dataframe tbody tr th {\n",
       "        vertical-align: top;\n",
       "    }\n",
       "\n",
       "    .dataframe thead th {\n",
       "        text-align: right;\n",
       "    }\n",
       "</style>\n",
       "<table border=\"1\" class=\"dataframe\">\n",
       "  <thead>\n",
       "    <tr style=\"text-align: right;\">\n",
       "      <th></th>\n",
       "    </tr>\n",
       "  </thead>\n",
       "  <tbody>\n",
       "  </tbody>\n",
       "</table>\n",
       "</div>"
      ],
      "text/plain": [
       "Empty DataFrame\n",
       "Columns: []\n",
       "Index: []"
      ]
     },
     "execution_count": 28,
     "metadata": {},
     "output_type": "execute_result"
    }
   ],
   "source": [
    "quiz_df"
   ]
  },
  {
   "cell_type": "code",
   "execution_count": 12,
   "metadata": {},
   "outputs": [],
   "source": [
    "# Export the DataFrame to an Excel file\n",
    "quiz_df.to_excel(\"cricket_quiz_questions.xlsx\", index=False)"
   ]
  },
  {
   "cell_type": "code",
   "execution_count": null,
   "metadata": {},
   "outputs": [],
   "source": []
  }
 ],
 "metadata": {
  "kernelspec": {
   "display_name": "ykn_env",
   "language": "python",
   "name": "python3"
  },
  "language_info": {
   "codemirror_mode": {
    "name": "ipython",
    "version": 3
   },
   "file_extension": ".py",
   "mimetype": "text/x-python",
   "name": "python",
   "nbconvert_exporter": "python",
   "pygments_lexer": "ipython3",
   "version": "3.10.10"
  },
  "orig_nbformat": 4
 },
 "nbformat": 4,
 "nbformat_minor": 2
}
